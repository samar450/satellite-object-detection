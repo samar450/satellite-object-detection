{
  "cells": [
    {
      "cell_type": "code",
      "execution_count": null,
      "metadata": {
        "colab": {
          "base_uri": "https://localhost:8080/",
          "height": 1000
        },
        "id": "BKOL78EVlV7i",
        "outputId": "210cb56e-0dba-46c4-b2b0-38b0c75dff40"
      },
      "outputs": [],
      "source": [
        "# Install YOLOv8 + Roboflow\n",
        "!pip install ultralytics roboflow\n",
        "\n",
        "# Import required libraries\n",
        "from roboflow import Roboflow\n",
        "from google.colab import files\n",
        "\n",
        "# Download dataset from Roboflow (private API key)\n",
        "rf = Roboflow(api_key=\"API KEY\")\n",
        "project = rf.workspace(\"project-rmmki\").project(\"satellite-images-jnhcj\")\n",
        "dataset = project.version(2).download(\"yolov8\")\n",
        "\n",
        "# Verify dataset download\n",
        "!ls /content/satellite-images-2/train/images\n",
        "\n",
        "# Train YOLOv8 model\n",
        "!yolo task=detect mode=train model=yolov8n.pt data=\"/content/satellite-images-2/data.yaml\" epochs=50 imgsz=640 batch=8\n",
        "\n",
        "# Evaluate trained model (validation)\n",
        "!yolo task=detect mode=val model=\"/content/runs/detect/train/weights/best.pt\" data=\"/content/satellite-images-2/data.yaml\"\n",
        "\n",
        "# Inference (run predictions on test set)\n",
        "!yolo task=detect mode=predict model=\"/content/runs/detect/train/weights/best.pt\" source=\"/content/satellite-images-2/test/images\" save=True\n",
        "\n",
        "# Download your trained model locally\n",
        "files.download(\"/content/runs/detect/train/weights/best.pt\")"
      ]
    }
  ],
  "metadata": {
    "colab": {
      "provenance": []
    },
    "kernelspec": {
      "display_name": "Python 3",
      "name": "python3"
    },
    "language_info": {
      "name": "python"
    }
  },
  "nbformat": 4,
  "nbformat_minor": 0
}
